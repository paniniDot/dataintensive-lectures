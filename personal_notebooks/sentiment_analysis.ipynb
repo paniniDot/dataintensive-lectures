{
 "cells": [
  {
   "cell_type": "markdown",
   "id": "84304cc0",
   "metadata": {},
   "source": [
    "## Sentiment analysis\n",
    "Dato un insieme di recensioni, vorremmo capire se il testo esprime opinioni positive o negative. \n",
    "### Modello\n",
    "Per fare questa cosa dobbiamo innanzitutto modellare il problema matematicamente per poi applicare lo strumento di ML che più ci sembra opportuno.\n",
    "#### Parole chiave\n",
    "Online esistono dei dataset (o dizionari in questo caso), contenenti una lista di parole con connotazione positiva o negativa. È evidente che questo è un approccio un po naive dal momento che il significato di una frase non si può desumere completamente dal numero di parole che essa contiene, poiché molto spesso il linguaggio naturale è ambiguo, e alcune parole cambiano completamente significato a seconda del contesto. Tuttavia per recensioni brevi e su situazioni concrete, è qualcosa di accettabile.\n",
    "\n",
    "Quello che si può fare è tenere un conteggio di quante parole positive e negative esistono in una frase, e sulla base di esse definire la connotazione della recensione.\n",
    "\n",
    "Dato, ad esempio una tabella con le recensioni strutturata come segue\n",
    "\n",
    "| **oid** |                                                   **text** | **stars** |\n",
    "|--------:|-----------------------------------------------------------:|----------:|\n",
    "| **527** |  Christopher Reeve is the definitive screen \"Superman\" ... |    5.0    |\n",
    "| **540** |  Sorry, never watched the movie. If has ANYTHING to do ... |    2.0    |\n",
    "| **527** | I won't bother going over the plot, as other have done ... |    4.0    |\n",
    "\n",
    "Risulta possibile aumentarla con due colonne **pos_words** e **neg_words** che conteggiano rispettivamente le parole positive e negative che ci sono \n",
    "\n",
    "| **oid** |                                                   **text** | **stars** | **pos_words** | **neg_words** |\n",
    "|--------:|-----------------------------------------------------------:|----------:|--------------:|--------------:|\n",
    "| **527** |  Christopher Reeve is the definitive screen \"Superman\" ... |    5.0    |      10.0     |      3.0      |\n",
    "| **540** |  Sorry, never watched the movie. If has ANYTHING to do ... |    2.0    |      1.0      |      3.0      |\n",
    "| **527** | I won't bother going over the plot, as other have done ... |    4.0    |      41.0     |      33.0     |\n",
    "\n",
    "e, fornendo a un modello di regressione lineare le ultime tre colonne, è possibile predire il punteggio di una nuova recensione sulla base del numero di parole di un tipo e dell'altro."
   ]
  },
  {
   "cell_type": "code",
   "execution_count": 1,
   "id": "8e258749",
   "metadata": {},
   "outputs": [],
   "source": [
    "import nltk\n",
    "from nltk.sentiment import SentimentIntensityAnalyzer"
   ]
  },
  {
   "cell_type": "code",
   "execution_count": 2,
   "id": "bbbc0937",
   "metadata": {},
   "outputs": [],
   "source": [
    "sia = SentimentIntensityAnalyzer()"
   ]
  },
  {
   "cell_type": "code",
   "execution_count": 3,
   "id": "dfa7a6c7",
   "metadata": {},
   "outputs": [],
   "source": [
    "sentence = \"Wonderful! A really great movie despite a sad ending\""
   ]
  },
  {
   "cell_type": "code",
   "execution_count": 4,
   "id": "52cbef26",
   "metadata": {},
   "outputs": [],
   "source": [
    "num_positive_words = len([w for w in nltk.word_tokenize(sentence) if sia.polarity_scores(w)['pos'] > 0])\n",
    "num_negative_words = len([w for w in nltk.word_tokenize(sentence) if sia.polarity_scores(w)['neg'] > 0])\n"
   ]
  },
  {
   "cell_type": "code",
   "execution_count": 5,
   "id": "3ac747bc",
   "metadata": {},
   "outputs": [
    {
     "data": {
      "text/plain": [
       "1"
      ]
     },
     "execution_count": 5,
     "metadata": {},
     "output_type": "execute_result"
    }
   ],
   "source": [
    "num_negative_words"
   ]
  },
  {
   "cell_type": "code",
   "execution_count": 6,
   "id": "012ffc0c",
   "metadata": {},
   "outputs": [
    {
     "data": {
      "text/plain": [
       "2"
      ]
     },
     "execution_count": 6,
     "metadata": {},
     "output_type": "execute_result"
    }
   ],
   "source": [
    "num_positive_words"
   ]
  },
  {
   "cell_type": "code",
   "execution_count": 7,
   "id": "730f664a",
   "metadata": {},
   "outputs": [],
   "source": [
    "import pandas as pd"
   ]
  },
  {
   "cell_type": "code",
   "execution_count": 8,
   "id": "516b9407",
   "metadata": {},
   "outputs": [],
   "source": [
    "df = pd.read_csv('datasets/amznrviews/20191226-reviews.csv')"
   ]
  },
  {
   "cell_type": "code",
   "execution_count": 9,
   "id": "cbbcd00a",
   "metadata": {},
   "outputs": [
    {
     "data": {
      "text/html": [
       "<div>\n",
       "<style scoped>\n",
       "    .dataframe tbody tr th:only-of-type {\n",
       "        vertical-align: middle;\n",
       "    }\n",
       "\n",
       "    .dataframe tbody tr th {\n",
       "        vertical-align: top;\n",
       "    }\n",
       "\n",
       "    .dataframe thead th {\n",
       "        text-align: right;\n",
       "    }\n",
       "</style>\n",
       "<table border=\"1\" class=\"dataframe\">\n",
       "  <thead>\n",
       "    <tr style=\"text-align: right;\">\n",
       "      <th></th>\n",
       "      <th>asin</th>\n",
       "      <th>name</th>\n",
       "      <th>rating</th>\n",
       "      <th>date</th>\n",
       "      <th>verified</th>\n",
       "      <th>title</th>\n",
       "      <th>body</th>\n",
       "      <th>helpfulVotes</th>\n",
       "    </tr>\n",
       "  </thead>\n",
       "  <tbody>\n",
       "    <tr>\n",
       "      <th>0</th>\n",
       "      <td>B0000SX2UC</td>\n",
       "      <td>Janet</td>\n",
       "      <td>3</td>\n",
       "      <td>October 11, 2005</td>\n",
       "      <td>False</td>\n",
       "      <td>Def not best, but not worst</td>\n",
       "      <td>I had the Samsung A600 for awhile which is abs...</td>\n",
       "      <td>1.0</td>\n",
       "    </tr>\n",
       "    <tr>\n",
       "      <th>1</th>\n",
       "      <td>B0000SX2UC</td>\n",
       "      <td>Luke Wyatt</td>\n",
       "      <td>1</td>\n",
       "      <td>January 7, 2004</td>\n",
       "      <td>False</td>\n",
       "      <td>Text Messaging Doesn't Work</td>\n",
       "      <td>Due to a software issue between Nokia and Spri...</td>\n",
       "      <td>17.0</td>\n",
       "    </tr>\n",
       "    <tr>\n",
       "      <th>2</th>\n",
       "      <td>B0000SX2UC</td>\n",
       "      <td>Brooke</td>\n",
       "      <td>5</td>\n",
       "      <td>December 30, 2003</td>\n",
       "      <td>False</td>\n",
       "      <td>Love This Phone</td>\n",
       "      <td>This is a great, reliable phone. I also purcha...</td>\n",
       "      <td>5.0</td>\n",
       "    </tr>\n",
       "    <tr>\n",
       "      <th>3</th>\n",
       "      <td>B0000SX2UC</td>\n",
       "      <td>amy m. teague</td>\n",
       "      <td>3</td>\n",
       "      <td>March 18, 2004</td>\n",
       "      <td>False</td>\n",
       "      <td>Love the Phone, BUT...!</td>\n",
       "      <td>I love the phone and all, because I really did...</td>\n",
       "      <td>1.0</td>\n",
       "    </tr>\n",
       "    <tr>\n",
       "      <th>4</th>\n",
       "      <td>B0000SX2UC</td>\n",
       "      <td>tristazbimmer</td>\n",
       "      <td>4</td>\n",
       "      <td>August 28, 2005</td>\n",
       "      <td>False</td>\n",
       "      <td>Great phone service and options, lousy case!</td>\n",
       "      <td>The phone has been great for every purpose it ...</td>\n",
       "      <td>1.0</td>\n",
       "    </tr>\n",
       "    <tr>\n",
       "      <th>...</th>\n",
       "      <td>...</td>\n",
       "      <td>...</td>\n",
       "      <td>...</td>\n",
       "      <td>...</td>\n",
       "      <td>...</td>\n",
       "      <td>...</td>\n",
       "      <td>...</td>\n",
       "      <td>...</td>\n",
       "    </tr>\n",
       "    <tr>\n",
       "      <th>67981</th>\n",
       "      <td>B081H6STQQ</td>\n",
       "      <td>jande</td>\n",
       "      <td>5</td>\n",
       "      <td>August 16, 2019</td>\n",
       "      <td>False</td>\n",
       "      <td>Awesome Phone, but finger scanner is a big mis...</td>\n",
       "      <td>I love the camera on this phone. The screen is...</td>\n",
       "      <td>1.0</td>\n",
       "    </tr>\n",
       "    <tr>\n",
       "      <th>67982</th>\n",
       "      <td>B081H6STQQ</td>\n",
       "      <td>2cool4u</td>\n",
       "      <td>5</td>\n",
       "      <td>September 14, 2019</td>\n",
       "      <td>False</td>\n",
       "      <td>Simply Amazing!</td>\n",
       "      <td>I've been an Xperia user for several years and...</td>\n",
       "      <td>1.0</td>\n",
       "    </tr>\n",
       "    <tr>\n",
       "      <th>67983</th>\n",
       "      <td>B081H6STQQ</td>\n",
       "      <td>simon</td>\n",
       "      <td>5</td>\n",
       "      <td>July 14, 2019</td>\n",
       "      <td>False</td>\n",
       "      <td>great phon3, but many bugs need to fix. still ...</td>\n",
       "      <td>buy one more for my cousin</td>\n",
       "      <td>NaN</td>\n",
       "    </tr>\n",
       "    <tr>\n",
       "      <th>67984</th>\n",
       "      <td>B081TJFVCJ</td>\n",
       "      <td>Tobiasz Jedrysiak</td>\n",
       "      <td>5</td>\n",
       "      <td>December 24, 2019</td>\n",
       "      <td>True</td>\n",
       "      <td>Phone is like new</td>\n",
       "      <td>Product looks and works like new. Very much re...</td>\n",
       "      <td>NaN</td>\n",
       "    </tr>\n",
       "    <tr>\n",
       "      <th>67985</th>\n",
       "      <td>B0825BB7SG</td>\n",
       "      <td>Owen Gonzalez</td>\n",
       "      <td>5</td>\n",
       "      <td>December 11, 2019</td>\n",
       "      <td>False</td>\n",
       "      <td>Outstanding phone for the price</td>\n",
       "      <td>I love the size and style of this phone. It is...</td>\n",
       "      <td>NaN</td>\n",
       "    </tr>\n",
       "  </tbody>\n",
       "</table>\n",
       "<p>67986 rows × 8 columns</p>\n",
       "</div>"
      ],
      "text/plain": [
       "             asin               name  rating                date  verified  \\\n",
       "0      B0000SX2UC              Janet       3    October 11, 2005     False   \n",
       "1      B0000SX2UC         Luke Wyatt       1     January 7, 2004     False   \n",
       "2      B0000SX2UC             Brooke       5   December 30, 2003     False   \n",
       "3      B0000SX2UC      amy m. teague       3      March 18, 2004     False   \n",
       "4      B0000SX2UC      tristazbimmer       4     August 28, 2005     False   \n",
       "...           ...                ...     ...                 ...       ...   \n",
       "67981  B081H6STQQ              jande       5     August 16, 2019     False   \n",
       "67982  B081H6STQQ            2cool4u       5  September 14, 2019     False   \n",
       "67983  B081H6STQQ              simon       5       July 14, 2019     False   \n",
       "67984  B081TJFVCJ  Tobiasz Jedrysiak       5   December 24, 2019      True   \n",
       "67985  B0825BB7SG      Owen Gonzalez       5   December 11, 2019     False   \n",
       "\n",
       "                                                   title  \\\n",
       "0                            Def not best, but not worst   \n",
       "1                            Text Messaging Doesn't Work   \n",
       "2                                        Love This Phone   \n",
       "3                                Love the Phone, BUT...!   \n",
       "4           Great phone service and options, lousy case!   \n",
       "...                                                  ...   \n",
       "67981  Awesome Phone, but finger scanner is a big mis...   \n",
       "67982                                    Simply Amazing!   \n",
       "67983  great phon3, but many bugs need to fix. still ...   \n",
       "67984                                  Phone is like new   \n",
       "67985                    Outstanding phone for the price   \n",
       "\n",
       "                                                    body  helpfulVotes  \n",
       "0      I had the Samsung A600 for awhile which is abs...           1.0  \n",
       "1      Due to a software issue between Nokia and Spri...          17.0  \n",
       "2      This is a great, reliable phone. I also purcha...           5.0  \n",
       "3      I love the phone and all, because I really did...           1.0  \n",
       "4      The phone has been great for every purpose it ...           1.0  \n",
       "...                                                  ...           ...  \n",
       "67981  I love the camera on this phone. The screen is...           1.0  \n",
       "67982  I've been an Xperia user for several years and...           1.0  \n",
       "67983                         buy one more for my cousin           NaN  \n",
       "67984  Product looks and works like new. Very much re...           NaN  \n",
       "67985  I love the size and style of this phone. It is...           NaN  \n",
       "\n",
       "[67986 rows x 8 columns]"
      ]
     },
     "execution_count": 9,
     "metadata": {},
     "output_type": "execute_result"
    }
   ],
   "source": [
    "df"
   ]
  },
  {
   "cell_type": "code",
   "execution_count": 10,
   "id": "97116dc9",
   "metadata": {},
   "outputs": [],
   "source": [
    "df['date']= pd.to_datetime(df['date'])"
   ]
  },
  {
   "cell_type": "code",
   "execution_count": 44,
   "id": "79fb153f",
   "metadata": {},
   "outputs": [
    {
     "data": {
      "text/html": [
       "<div>\n",
       "<style scoped>\n",
       "    .dataframe tbody tr th:only-of-type {\n",
       "        vertical-align: middle;\n",
       "    }\n",
       "\n",
       "    .dataframe tbody tr th {\n",
       "        vertical-align: top;\n",
       "    }\n",
       "\n",
       "    .dataframe thead th {\n",
       "        text-align: right;\n",
       "    }\n",
       "</style>\n",
       "<table border=\"1\" class=\"dataframe\">\n",
       "  <thead>\n",
       "    <tr style=\"text-align: right;\">\n",
       "      <th></th>\n",
       "      <th>rating</th>\n",
       "      <th>date</th>\n",
       "      <th>body</th>\n",
       "      <th>helpfulVotes</th>\n",
       "    </tr>\n",
       "  </thead>\n",
       "  <tbody>\n",
       "    <tr>\n",
       "      <th>0</th>\n",
       "      <td>3</td>\n",
       "      <td>2005-10-11</td>\n",
       "      <td>I had the Samsung A600 for awhile which is abs...</td>\n",
       "      <td>1.0</td>\n",
       "    </tr>\n",
       "    <tr>\n",
       "      <th>1</th>\n",
       "      <td>1</td>\n",
       "      <td>2004-01-07</td>\n",
       "      <td>Due to a software issue between Nokia and Spri...</td>\n",
       "      <td>17.0</td>\n",
       "    </tr>\n",
       "    <tr>\n",
       "      <th>2</th>\n",
       "      <td>5</td>\n",
       "      <td>2003-12-30</td>\n",
       "      <td>This is a great, reliable phone. I also purcha...</td>\n",
       "      <td>5.0</td>\n",
       "    </tr>\n",
       "    <tr>\n",
       "      <th>3</th>\n",
       "      <td>3</td>\n",
       "      <td>2004-03-18</td>\n",
       "      <td>I love the phone and all, because I really did...</td>\n",
       "      <td>1.0</td>\n",
       "    </tr>\n",
       "    <tr>\n",
       "      <th>4</th>\n",
       "      <td>4</td>\n",
       "      <td>2005-08-28</td>\n",
       "      <td>The phone has been great for every purpose it ...</td>\n",
       "      <td>1.0</td>\n",
       "    </tr>\n",
       "    <tr>\n",
       "      <th>...</th>\n",
       "      <td>...</td>\n",
       "      <td>...</td>\n",
       "      <td>...</td>\n",
       "      <td>...</td>\n",
       "    </tr>\n",
       "    <tr>\n",
       "      <th>67981</th>\n",
       "      <td>5</td>\n",
       "      <td>2019-08-16</td>\n",
       "      <td>I love the camera on this phone. The screen is...</td>\n",
       "      <td>1.0</td>\n",
       "    </tr>\n",
       "    <tr>\n",
       "      <th>67982</th>\n",
       "      <td>5</td>\n",
       "      <td>2019-09-14</td>\n",
       "      <td>I've been an Xperia user for several years and...</td>\n",
       "      <td>1.0</td>\n",
       "    </tr>\n",
       "    <tr>\n",
       "      <th>67983</th>\n",
       "      <td>5</td>\n",
       "      <td>2019-07-14</td>\n",
       "      <td>buy one more for my cousin</td>\n",
       "      <td>NaN</td>\n",
       "    </tr>\n",
       "    <tr>\n",
       "      <th>67984</th>\n",
       "      <td>5</td>\n",
       "      <td>2019-12-24</td>\n",
       "      <td>Product looks and works like new. Very much re...</td>\n",
       "      <td>NaN</td>\n",
       "    </tr>\n",
       "    <tr>\n",
       "      <th>67985</th>\n",
       "      <td>5</td>\n",
       "      <td>2019-12-11</td>\n",
       "      <td>I love the size and style of this phone. It is...</td>\n",
       "      <td>NaN</td>\n",
       "    </tr>\n",
       "  </tbody>\n",
       "</table>\n",
       "<p>67986 rows × 4 columns</p>\n",
       "</div>"
      ],
      "text/plain": [
       "       rating       date                                               body  \\\n",
       "0           3 2005-10-11  I had the Samsung A600 for awhile which is abs...   \n",
       "1           1 2004-01-07  Due to a software issue between Nokia and Spri...   \n",
       "2           5 2003-12-30  This is a great, reliable phone. I also purcha...   \n",
       "3           3 2004-03-18  I love the phone and all, because I really did...   \n",
       "4           4 2005-08-28  The phone has been great for every purpose it ...   \n",
       "...       ...        ...                                                ...   \n",
       "67981       5 2019-08-16  I love the camera on this phone. The screen is...   \n",
       "67982       5 2019-09-14  I've been an Xperia user for several years and...   \n",
       "67983       5 2019-07-14                         buy one more for my cousin   \n",
       "67984       5 2019-12-24  Product looks and works like new. Very much re...   \n",
       "67985       5 2019-12-11  I love the size and style of this phone. It is...   \n",
       "\n",
       "       helpfulVotes  \n",
       "0               1.0  \n",
       "1              17.0  \n",
       "2               5.0  \n",
       "3               1.0  \n",
       "4               1.0  \n",
       "...             ...  \n",
       "67981           1.0  \n",
       "67982           1.0  \n",
       "67983           NaN  \n",
       "67984           NaN  \n",
       "67985           NaN  \n",
       "\n",
       "[67986 rows x 4 columns]"
      ]
     },
     "execution_count": 44,
     "metadata": {},
     "output_type": "execute_result"
    }
   ],
   "source": [
    "df"
   ]
  },
  {
   "cell_type": "code",
   "execution_count": 49,
   "id": "f6d89d07",
   "metadata": {},
   "outputs": [],
   "source": [
    "df['helpfulVotes'].fillna(df['helpfulVotes'].mean(), inplace=True)"
   ]
  },
  {
   "cell_type": "code",
   "execution_count": 50,
   "id": "f00bb18c",
   "metadata": {},
   "outputs": [
    {
     "data": {
      "text/html": [
       "<div>\n",
       "<style scoped>\n",
       "    .dataframe tbody tr th:only-of-type {\n",
       "        vertical-align: middle;\n",
       "    }\n",
       "\n",
       "    .dataframe tbody tr th {\n",
       "        vertical-align: top;\n",
       "    }\n",
       "\n",
       "    .dataframe thead th {\n",
       "        text-align: right;\n",
       "    }\n",
       "</style>\n",
       "<table border=\"1\" class=\"dataframe\">\n",
       "  <thead>\n",
       "    <tr style=\"text-align: right;\">\n",
       "      <th></th>\n",
       "      <th>rating</th>\n",
       "      <th>date</th>\n",
       "      <th>body</th>\n",
       "      <th>helpfulVotes</th>\n",
       "    </tr>\n",
       "  </thead>\n",
       "  <tbody>\n",
       "    <tr>\n",
       "      <th>0</th>\n",
       "      <td>3</td>\n",
       "      <td>2005-10-11</td>\n",
       "      <td>I had the Samsung A600 for awhile which is abs...</td>\n",
       "      <td>1.00000</td>\n",
       "    </tr>\n",
       "    <tr>\n",
       "      <th>1</th>\n",
       "      <td>1</td>\n",
       "      <td>2004-01-07</td>\n",
       "      <td>Due to a software issue between Nokia and Spri...</td>\n",
       "      <td>17.00000</td>\n",
       "    </tr>\n",
       "    <tr>\n",
       "      <th>2</th>\n",
       "      <td>5</td>\n",
       "      <td>2003-12-30</td>\n",
       "      <td>This is a great, reliable phone. I also purcha...</td>\n",
       "      <td>5.00000</td>\n",
       "    </tr>\n",
       "    <tr>\n",
       "      <th>3</th>\n",
       "      <td>3</td>\n",
       "      <td>2004-03-18</td>\n",
       "      <td>I love the phone and all, because I really did...</td>\n",
       "      <td>1.00000</td>\n",
       "    </tr>\n",
       "    <tr>\n",
       "      <th>4</th>\n",
       "      <td>4</td>\n",
       "      <td>2005-08-28</td>\n",
       "      <td>The phone has been great for every purpose it ...</td>\n",
       "      <td>1.00000</td>\n",
       "    </tr>\n",
       "    <tr>\n",
       "      <th>...</th>\n",
       "      <td>...</td>\n",
       "      <td>...</td>\n",
       "      <td>...</td>\n",
       "      <td>...</td>\n",
       "    </tr>\n",
       "    <tr>\n",
       "      <th>67981</th>\n",
       "      <td>5</td>\n",
       "      <td>2019-08-16</td>\n",
       "      <td>I love the camera on this phone. The screen is...</td>\n",
       "      <td>1.00000</td>\n",
       "    </tr>\n",
       "    <tr>\n",
       "      <th>67982</th>\n",
       "      <td>5</td>\n",
       "      <td>2019-09-14</td>\n",
       "      <td>I've been an Xperia user for several years and...</td>\n",
       "      <td>1.00000</td>\n",
       "    </tr>\n",
       "    <tr>\n",
       "      <th>67983</th>\n",
       "      <td>5</td>\n",
       "      <td>2019-07-14</td>\n",
       "      <td>buy one more for my cousin</td>\n",
       "      <td>8.22969</td>\n",
       "    </tr>\n",
       "    <tr>\n",
       "      <th>67984</th>\n",
       "      <td>5</td>\n",
       "      <td>2019-12-24</td>\n",
       "      <td>Product looks and works like new. Very much re...</td>\n",
       "      <td>8.22969</td>\n",
       "    </tr>\n",
       "    <tr>\n",
       "      <th>67985</th>\n",
       "      <td>5</td>\n",
       "      <td>2019-12-11</td>\n",
       "      <td>I love the size and style of this phone. It is...</td>\n",
       "      <td>8.22969</td>\n",
       "    </tr>\n",
       "  </tbody>\n",
       "</table>\n",
       "<p>67986 rows × 4 columns</p>\n",
       "</div>"
      ],
      "text/plain": [
       "       rating       date                                               body  \\\n",
       "0           3 2005-10-11  I had the Samsung A600 for awhile which is abs...   \n",
       "1           1 2004-01-07  Due to a software issue between Nokia and Spri...   \n",
       "2           5 2003-12-30  This is a great, reliable phone. I also purcha...   \n",
       "3           3 2004-03-18  I love the phone and all, because I really did...   \n",
       "4           4 2005-08-28  The phone has been great for every purpose it ...   \n",
       "...       ...        ...                                                ...   \n",
       "67981       5 2019-08-16  I love the camera on this phone. The screen is...   \n",
       "67982       5 2019-09-14  I've been an Xperia user for several years and...   \n",
       "67983       5 2019-07-14                         buy one more for my cousin   \n",
       "67984       5 2019-12-24  Product looks and works like new. Very much re...   \n",
       "67985       5 2019-12-11  I love the size and style of this phone. It is...   \n",
       "\n",
       "       helpfulVotes  \n",
       "0           1.00000  \n",
       "1          17.00000  \n",
       "2           5.00000  \n",
       "3           1.00000  \n",
       "4           1.00000  \n",
       "...             ...  \n",
       "67981       1.00000  \n",
       "67982       1.00000  \n",
       "67983       8.22969  \n",
       "67984       8.22969  \n",
       "67985       8.22969  \n",
       "\n",
       "[67986 rows x 4 columns]"
      ]
     },
     "execution_count": 50,
     "metadata": {},
     "output_type": "execute_result"
    }
   ],
   "source": [
    "df"
   ]
  },
  {
   "cell_type": "code",
   "execution_count": 51,
   "id": "425c4fe6",
   "metadata": {},
   "outputs": [],
   "source": [
    "df.dropna(subset=['body'], inplace=True)"
   ]
  },
  {
   "cell_type": "code",
   "execution_count": 52,
   "id": "41165c55",
   "metadata": {},
   "outputs": [
    {
     "name": "stdout",
     "output_type": "stream",
     "text": [
      "<class 'pandas.core.frame.DataFrame'>\n",
      "Int64Index: 67965 entries, 0 to 67985\n",
      "Data columns (total 4 columns):\n",
      " #   Column        Non-Null Count  Dtype         \n",
      "---  ------        --------------  -----         \n",
      " 0   rating        67965 non-null  int64         \n",
      " 1   date          67965 non-null  datetime64[ns]\n",
      " 2   body          67965 non-null  object        \n",
      " 3   helpfulVotes  67965 non-null  float64       \n",
      "dtypes: datetime64[ns](1), float64(1), int64(1), object(1)\n",
      "memory usage: 2.6+ MB\n"
     ]
    }
   ],
   "source": [
    "df.info()"
   ]
  },
  {
   "cell_type": "code",
   "execution_count": 58,
   "id": "a759b702",
   "metadata": {},
   "outputs": [],
   "source": [
    "df['pos_words'] = df.apply(lambda x: len([w for w in nltk.word_tokenize(x['body']) if sia.polarity_scores(w)['pos'] > 0]), axis=1)\n",
    "df['neg_words'] = df.apply(lambda x: len([w for w in nltk.word_tokenize(x['body']) if sia.polarity_scores(w)['neg'] > 0]), axis=1)"
   ]
  },
  {
   "cell_type": "code",
   "execution_count": 59,
   "id": "1538d5c1",
   "metadata": {},
   "outputs": [
    {
     "data": {
      "text/html": [
       "<div>\n",
       "<style scoped>\n",
       "    .dataframe tbody tr th:only-of-type {\n",
       "        vertical-align: middle;\n",
       "    }\n",
       "\n",
       "    .dataframe tbody tr th {\n",
       "        vertical-align: top;\n",
       "    }\n",
       "\n",
       "    .dataframe thead th {\n",
       "        text-align: right;\n",
       "    }\n",
       "</style>\n",
       "<table border=\"1\" class=\"dataframe\">\n",
       "  <thead>\n",
       "    <tr style=\"text-align: right;\">\n",
       "      <th></th>\n",
       "      <th>rating</th>\n",
       "      <th>date</th>\n",
       "      <th>body</th>\n",
       "      <th>helpfulVotes</th>\n",
       "      <th>pos_words</th>\n",
       "      <th>neg_words</th>\n",
       "    </tr>\n",
       "  </thead>\n",
       "  <tbody>\n",
       "    <tr>\n",
       "      <th>0</th>\n",
       "      <td>3</td>\n",
       "      <td>2005-10-11</td>\n",
       "      <td>I had the Samsung A600 for awhile which is abs...</td>\n",
       "      <td>1.00000</td>\n",
       "      <td>17</td>\n",
       "      <td>13</td>\n",
       "    </tr>\n",
       "    <tr>\n",
       "      <th>1</th>\n",
       "      <td>1</td>\n",
       "      <td>2004-01-07</td>\n",
       "      <td>Due to a software issue between Nokia and Spri...</td>\n",
       "      <td>17.00000</td>\n",
       "      <td>5</td>\n",
       "      <td>2</td>\n",
       "    </tr>\n",
       "    <tr>\n",
       "      <th>2</th>\n",
       "      <td>5</td>\n",
       "      <td>2003-12-30</td>\n",
       "      <td>This is a great, reliable phone. I also purcha...</td>\n",
       "      <td>5.00000</td>\n",
       "      <td>6</td>\n",
       "      <td>3</td>\n",
       "    </tr>\n",
       "    <tr>\n",
       "      <th>3</th>\n",
       "      <td>3</td>\n",
       "      <td>2004-03-18</td>\n",
       "      <td>I love the phone and all, because I really did...</td>\n",
       "      <td>1.00000</td>\n",
       "      <td>3</td>\n",
       "      <td>0</td>\n",
       "    </tr>\n",
       "    <tr>\n",
       "      <th>4</th>\n",
       "      <td>4</td>\n",
       "      <td>2005-08-28</td>\n",
       "      <td>The phone has been great for every purpose it ...</td>\n",
       "      <td>1.00000</td>\n",
       "      <td>6</td>\n",
       "      <td>3</td>\n",
       "    </tr>\n",
       "    <tr>\n",
       "      <th>...</th>\n",
       "      <td>...</td>\n",
       "      <td>...</td>\n",
       "      <td>...</td>\n",
       "      <td>...</td>\n",
       "      <td>...</td>\n",
       "      <td>...</td>\n",
       "    </tr>\n",
       "    <tr>\n",
       "      <th>67981</th>\n",
       "      <td>5</td>\n",
       "      <td>2019-08-16</td>\n",
       "      <td>I love the camera on this phone. The screen is...</td>\n",
       "      <td>1.00000</td>\n",
       "      <td>5</td>\n",
       "      <td>3</td>\n",
       "    </tr>\n",
       "    <tr>\n",
       "      <th>67982</th>\n",
       "      <td>5</td>\n",
       "      <td>2019-09-14</td>\n",
       "      <td>I've been an Xperia user for several years and...</td>\n",
       "      <td>1.00000</td>\n",
       "      <td>4</td>\n",
       "      <td>5</td>\n",
       "    </tr>\n",
       "    <tr>\n",
       "      <th>67983</th>\n",
       "      <td>5</td>\n",
       "      <td>2019-07-14</td>\n",
       "      <td>buy one more for my cousin</td>\n",
       "      <td>8.22969</td>\n",
       "      <td>0</td>\n",
       "      <td>0</td>\n",
       "    </tr>\n",
       "    <tr>\n",
       "      <th>67984</th>\n",
       "      <td>5</td>\n",
       "      <td>2019-12-24</td>\n",
       "      <td>Product looks and works like new. Very much re...</td>\n",
       "      <td>8.22969</td>\n",
       "      <td>2</td>\n",
       "      <td>0</td>\n",
       "    </tr>\n",
       "    <tr>\n",
       "      <th>67985</th>\n",
       "      <td>5</td>\n",
       "      <td>2019-12-11</td>\n",
       "      <td>I love the size and style of this phone. It is...</td>\n",
       "      <td>8.22969</td>\n",
       "      <td>4</td>\n",
       "      <td>0</td>\n",
       "    </tr>\n",
       "  </tbody>\n",
       "</table>\n",
       "<p>67965 rows × 6 columns</p>\n",
       "</div>"
      ],
      "text/plain": [
       "       rating       date                                               body  \\\n",
       "0           3 2005-10-11  I had the Samsung A600 for awhile which is abs...   \n",
       "1           1 2004-01-07  Due to a software issue between Nokia and Spri...   \n",
       "2           5 2003-12-30  This is a great, reliable phone. I also purcha...   \n",
       "3           3 2004-03-18  I love the phone and all, because I really did...   \n",
       "4           4 2005-08-28  The phone has been great for every purpose it ...   \n",
       "...       ...        ...                                                ...   \n",
       "67981       5 2019-08-16  I love the camera on this phone. The screen is...   \n",
       "67982       5 2019-09-14  I've been an Xperia user for several years and...   \n",
       "67983       5 2019-07-14                         buy one more for my cousin   \n",
       "67984       5 2019-12-24  Product looks and works like new. Very much re...   \n",
       "67985       5 2019-12-11  I love the size and style of this phone. It is...   \n",
       "\n",
       "       helpfulVotes  pos_words  neg_words  \n",
       "0           1.00000         17         13  \n",
       "1          17.00000          5          2  \n",
       "2           5.00000          6          3  \n",
       "3           1.00000          3          0  \n",
       "4           1.00000          6          3  \n",
       "...             ...        ...        ...  \n",
       "67981       1.00000          5          3  \n",
       "67982       1.00000          4          5  \n",
       "67983       8.22969          0          0  \n",
       "67984       8.22969          2          0  \n",
       "67985       8.22969          4          0  \n",
       "\n",
       "[67965 rows x 6 columns]"
      ]
     },
     "execution_count": 59,
     "metadata": {},
     "output_type": "execute_result"
    }
   ],
   "source": [
    "df"
   ]
  },
  {
   "cell_type": "code",
   "execution_count": 60,
   "id": "81420a52",
   "metadata": {},
   "outputs": [
    {
     "data": {
      "text/plain": [
       "\"I love the phone and all, because I really did need one, but I didn't expect the price of the bill when I received one. Also, I've had my phone for a little over two months now and still have yet to receive my free accessories that were supposed to come with the phone. Every time I call the company, they keep telling me to wait a couple of weeks, and that I should be receiving it shortly. Other than that, I do love the phone and all that I am able to do with it; and I'm not just talking about making the phone calls! :)\""
      ]
     },
     "execution_count": 60,
     "metadata": {},
     "output_type": "execute_result"
    }
   ],
   "source": [
    "df.loc[3, 'body']"
   ]
  },
  {
   "cell_type": "code",
   "execution_count": 69,
   "id": "8502c805",
   "metadata": {},
   "outputs": [],
   "source": [
    "from sklearn.linear_model import LinearRegression\n",
    "from sklearn.model_selection import train_test_split\n",
    "import numpy as np"
   ]
  },
  {
   "cell_type": "code",
   "execution_count": 64,
   "id": "1f3e6757",
   "metadata": {},
   "outputs": [],
   "source": [
    "lrm = LinearRegression()"
   ]
  },
  {
   "cell_type": "markdown",
   "id": "6aa285c1",
   "metadata": {},
   "source": [
    "Con *random_state=42* siamo certi che l'esecuzione di questo split produca risultati riproducibili. "
   ]
  },
  {
   "cell_type": "code",
   "execution_count": 137,
   "id": "3d298066",
   "metadata": {},
   "outputs": [],
   "source": [
    "X_train, X_val, y_train, y_val = train_test_split(df.loc[:, ['helpfulVotes', 'pos_words', 'neg_words']], df.loc[:, 'rating'], train_size=0.7, random_state=42)"
   ]
  },
  {
   "cell_type": "code",
   "execution_count": 138,
   "id": "b49afe8e",
   "metadata": {},
   "outputs": [
    {
     "data": {
      "text/plain": [
       "LinearRegression()"
      ]
     },
     "execution_count": 138,
     "metadata": {},
     "output_type": "execute_result"
    }
   ],
   "source": [
    "lrm.fit(X_train, y_train)"
   ]
  },
  {
   "cell_type": "code",
   "execution_count": 139,
   "id": "d76e4b9d",
   "metadata": {},
   "outputs": [
    {
     "data": {
      "text/plain": [
       "array([3.88608999, 3.92541537, 3.92541537, ..., 8.72570379, 3.79014593,\n",
       "       3.88374846])"
      ]
     },
     "execution_count": 139,
     "metadata": {},
     "output_type": "execute_result"
    }
   ],
   "source": [
    "lrm.predict(X_val)"
   ]
  },
  {
   "cell_type": "markdown",
   "id": "841dd0d4",
   "metadata": {},
   "source": [
    "L'$R^2$ è molto scarso sia sui dati di training che di validation, qualcosa non funziona."
   ]
  },
  {
   "cell_type": "code",
   "execution_count": 140,
   "id": "cf264b15",
   "metadata": {},
   "outputs": [
    {
     "data": {
      "text/plain": [
       "0.1502861538933309"
      ]
     },
     "execution_count": 140,
     "metadata": {},
     "output_type": "execute_result"
    }
   ],
   "source": [
    "lrm.score(X_train, y_train)"
   ]
  },
  {
   "cell_type": "code",
   "execution_count": 141,
   "id": "17277e40",
   "metadata": {},
   "outputs": [
    {
     "data": {
      "text/plain": [
       "0.14611076826991076"
      ]
     },
     "execution_count": 141,
     "metadata": {},
     "output_type": "execute_result"
    }
   ],
   "source": [
    "lrm.score(X_val, y_val)"
   ]
  },
  {
   "cell_type": "markdown",
   "id": "ebff8001",
   "metadata": {},
   "source": [
    "- Intercetta (bias), che corrisponde al voto base è di circa 3.80 stelle, molto simile ai risultati ottenuti dal sistema del prof.\n",
    "- Coefficienti: \n",
    "    - Per quanto riguarda il numero di **recensioni utili**: per ognuna di esse le stelle scendono di uno 0.00190416\n",
    "    - Per il numero di **parole positive**: vi è un incremento di 0.13526944 per ognuna di esse\n",
    "    - Per quelle **negative**: è strano che ogni parola tolga 0.31220579, che è molto di più di quanto non aggiunga una parola positiva."
   ]
  },
  {
   "cell_type": "code",
   "execution_count": 130,
   "id": "845156fe",
   "metadata": {},
   "outputs": [
    {
     "data": {
      "text/plain": [
       "(array([-0.00190416,  0.13526944, -0.31220579]), 3.8058166132372144)"
      ]
     },
     "execution_count": 130,
     "metadata": {},
     "output_type": "execute_result"
    }
   ],
   "source": [
    "lrm.coef_, lrm.intercept_"
   ]
  },
  {
   "cell_type": "markdown",
   "id": "fb246bbe",
   "metadata": {},
   "source": [
    "Il modello predice bene il 76.2% delle volte"
   ]
  },
  {
   "cell_type": "code",
   "execution_count": 144,
   "id": "300ef28d",
   "metadata": {},
   "outputs": [],
   "source": [
    "labels_train = np.where(y_train >= 3.5, \"pos\", \"neg\")\n",
    "labels_val = np.where(lrm.predict(X_train) >= 3.5, \"pos\", \"neg\")"
   ]
  },
  {
   "cell_type": "code",
   "execution_count": 145,
   "id": "8eb85717",
   "metadata": {},
   "outputs": [
    {
     "data": {
      "text/plain": [
       "0.7619548081975828"
      ]
     },
     "execution_count": 145,
     "metadata": {},
     "output_type": "execute_result"
    }
   ],
   "source": [
    "(labels_train == labels_val).mean()"
   ]
  },
  {
   "cell_type": "code",
   "execution_count": null,
   "id": "be947d42",
   "metadata": {},
   "outputs": [],
   "source": []
  }
 ],
 "metadata": {
  "kernelspec": {
   "display_name": "Python 3 (ipykernel)",
   "language": "python",
   "name": "python3"
  },
  "language_info": {
   "codemirror_mode": {
    "name": "ipython",
    "version": 3
   },
   "file_extension": ".py",
   "mimetype": "text/x-python",
   "name": "python",
   "nbconvert_exporter": "python",
   "pygments_lexer": "ipython3",
   "version": "3.10.9"
  }
 },
 "nbformat": 4,
 "nbformat_minor": 5
}
