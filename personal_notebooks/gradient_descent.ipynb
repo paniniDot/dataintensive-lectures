{
 "cells": [
  {
   "cell_type": "code",
   "execution_count": 2,
   "id": "0bb8dedb",
   "metadata": {},
   "outputs": [],
   "source": [
    "import numpy as np\n",
    "import pandas as pd"
   ]
  },
  {
   "cell_type": "code",
   "execution_count": 3,
   "id": "df581011",
   "metadata": {},
   "outputs": [],
   "source": [
    "import matplotlib.pyplot as plt\n",
    "%matplotlib inline"
   ]
  },
  {
   "cell_type": "code",
   "execution_count": 4,
   "id": "546de7d3",
   "metadata": {},
   "outputs": [
    {
     "data": {
      "text/plain": [
       "<matplotlib.collections.PathCollection at 0x1fc638425b0>"
      ]
     },
     "execution_count": 4,
     "metadata": {},
     "output_type": "execute_result"
    },
    {
     "data": {
      "image/png": "[encoded data removed]",
      "text/plain": [
       "<Figure size 432x288 with 1 Axes>"
      ]
     },
     "metadata": {
      "needs_background": "light"
     },
     "output_type": "display_data"
    }
   ],
   "source": [
    "plt.scatter([-1,0,1], [1,-2,4])"
   ]
  },
  {
   "cell_type": "code",
   "execution_count": 5,
   "id": "63f965e8",
   "metadata": {},
   "outputs": [],
   "source": [
    "data = {\n",
    "    \"x\": np.random.randint(10, size=10000), \n",
    "    \"y\": np.cos(np.random.randint(10, size=10000))\n",
    "}\n",
    "df = pd.DataFrame(data, columns=['x', 'y'])"
   ]
  },
  {
   "cell_type": "code",
   "execution_count": 6,
   "id": "a092f37d",
   "metadata": {},
   "outputs": [],
   "source": [
    "x = np.linspace(1, 10, 100)"
   ]
  },
  {
   "cell_type": "code",
   "execution_count": 7,
   "id": "c0cfd3fa",
   "metadata": {},
   "outputs": [],
   "source": [
    "y = pow(x + 50, 10) "
   ]
  },
  {
   "cell_type": "code",
   "execution_count": 8,
   "id": "e9846fd2",
   "metadata": {},
   "outputs": [
    {
     "data": {
      "text/plain": [
       "[<matplotlib.lines.Line2D at 0x1fc6402d040>]"
      ]
     },
     "execution_count": 8,
     "metadata": {},
     "output_type": "execute_result"
    },
    {
     "data": {
      "image/png": "[encoded data removed]",
      "text/plain": [
       "<Figure size 432x288 with 1 Axes>"
      ]
     },
     "metadata": {
      "needs_background": "light"
     },
     "output_type": "display_data"
    }
   ],
   "source": [
    "plt.plot(x,y)\n"
   ]
  },
  {
   "cell_type": "code",
   "execution_count": 9,
   "id": "a86328ba",
   "metadata": {},
   "outputs": [],
   "source": [
    "def gradient_descent(learning_rate, iterations, X, Y):\n",
    "    alpha, beta = 0, 0\n",
    "    m = len(X)\n",
    "    for it in range(0, iterations):\n",
    "        alpha -= (2*learning_rate/m) * np.sum(alpha*X**2+beta*X-Y*X)\n",
    "        beta -= (2*learning_rate/m) * np.sum(alpha*X+beta-Y)\n",
    "    return alpha, beta"
   ]
  },
  {
   "cell_type": "code",
   "execution_count": 10,
   "id": "cbf949ae",
   "metadata": {},
   "outputs": [],
   "source": [
    "X = np.linspace(1,100,100)\n",
    "Y = 3*X + 1"
   ]
  },
  {
   "cell_type": "code",
   "execution_count": 11,
   "id": "c79f3ddb",
   "metadata": {},
   "outputs": [
    {
     "data": {
      "text/plain": [
       "[<matplotlib.lines.Line2D at 0x1fc640934c0>]"
      ]
     },
     "execution_count": 11,
     "metadata": {},
     "output_type": "execute_result"
    },
    {
     "data": {
      "image/png": "[encoded data removed]",
      "text/plain": [
       "<Figure size 432x288 with 1 Axes>"
      ]
     },
     "metadata": {
      "needs_background": "light"
     },
     "output_type": "display_data"
    }
   ],
   "source": [
    "plt.plot(X, Y)"
   ]
  },
  {
   "cell_type": "code",
   "execution_count": 12,
   "id": "2e57d9d5",
   "metadata": {},
   "outputs": [],
   "source": [
    "alpha, beta = gradient_descent(0.0001, 200000, X, Y)"
   ]
  },
  {
   "cell_type": "code",
   "execution_count": 13,
   "id": "979f513b",
   "metadata": {},
   "outputs": [
    {
     "data": {
      "text/plain": [
       "(3.000000775657924, 0.9999480347013958)"
      ]
     },
     "execution_count": 13,
     "metadata": {},
     "output_type": "execute_result"
    }
   ],
   "source": [
    "alpha, beta"
   ]
  },
  {
   "cell_type": "code",
   "execution_count": 42,
   "id": "c9d267a1",
   "metadata": {},
   "outputs": [],
   "source": [
    "def gradient_descent_multivariable(learning_rate, iterations, X, y):\n",
    "    '''\n",
    "        discesa del gradiente multivariata. \n",
    "        \n",
    "        Parametri:\n",
    "            - learning_rate: l'ampiezza del passo ad ogni iterazione\n",
    "            - iterations: il numero di iterazioni da fare\n",
    "            - X: una matrice (m x n) contenente in ogni riga un'istanza (ad esempio di casa)\n",
    "                 e su ogni colonna una feature (ad esempio numero di stanze, mq, ecc.)\n",
    "            - y: un vettore riga contenente il valore ottenuto come y = theta * X \n",
    "                 (nel caso delle case, ad esempio, il costo della casa)\n",
    "    '''\n",
    "    m, n = X.shape #numero di case (m) per numero di feature da considerare (n)\n",
    "    theta = np.zeros(n) #stabilisco il peso di ogni feature con questo vettore\n",
    "    for it in range(iterations):\n",
    "        error = X.dot(theta) - y\n",
    "        theta -= (2*learning_rate / m) * X.T.dot(error)\n",
    "    return theta\n",
    "    "
   ]
  },
  {
   "cell_type": "code",
   "execution_count": 56,
   "id": "6ae71516",
   "metadata": {},
   "outputs": [],
   "source": [
    "data = {\n",
    "    'Bedrooms': [3, 2, 2, 1, 4],\n",
    "    'Sq. feet': [2000, 800, 850, 550, 2000],\n",
    "    'Normaltown': [1, 0, 1, 1, 0],\n",
    "    'Hipsterton': [0, 1, 0, 0, 0],\n",
    "    'Skid Row': [0, 0, 0, 0, 1],\n",
    "    'Sale Price': [250000, 300000, 150000, 78000, 150000]\n",
    "}\n",
    "houses = pd.DataFrame(data, columns=['Bedrooms', 'Sq. feet', 'Normaltown', 'Hipsterton', 'Skid Row', 'Sale Price'])"
   ]
  },
  {
   "cell_type": "code",
   "execution_count": 16,
   "id": "3c76f8eb",
   "metadata": {},
   "outputs": [
    {
     "data": {
      "text/html": [
       "<div>\n",
       "<style scoped>\n",
       "    .dataframe tbody tr th:only-of-type {\n",
       "        vertical-align: middle;\n",
       "    }\n",
       "\n",
       "    .dataframe tbody tr th {\n",
       "        vertical-align: top;\n",
       "    }\n",
       "\n",
       "    .dataframe thead th {\n",
       "        text-align: right;\n",
       "    }\n",
       "</style>\n",
       "<table border=\"1\" class=\"dataframe\">\n",
       "  <thead>\n",
       "    <tr style=\"text-align: right;\">\n",
       "      <th></th>\n",
       "      <th>Bedrooms</th>\n",
       "      <th>Sq. feet</th>\n",
       "      <th>Normaltown</th>\n",
       "      <th>Hipsterton</th>\n",
       "      <th>Skid Row</th>\n",
       "      <th>Sale Price</th>\n",
       "    </tr>\n",
       "  </thead>\n",
       "  <tbody>\n",
       "    <tr>\n",
       "      <th>0</th>\n",
       "      <td>3</td>\n",
       "      <td>2000</td>\n",
       "      <td>1</td>\n",
       "      <td>0</td>\n",
       "      <td>0</td>\n",
       "      <td>250000</td>\n",
       "    </tr>\n",
       "    <tr>\n",
       "      <th>1</th>\n",
       "      <td>2</td>\n",
       "      <td>800</td>\n",
       "      <td>0</td>\n",
       "      <td>1</td>\n",
       "      <td>0</td>\n",
       "      <td>300000</td>\n",
       "    </tr>\n",
       "    <tr>\n",
       "      <th>2</th>\n",
       "      <td>2</td>\n",
       "      <td>850</td>\n",
       "      <td>1</td>\n",
       "      <td>0</td>\n",
       "      <td>0</td>\n",
       "      <td>150000</td>\n",
       "    </tr>\n",
       "    <tr>\n",
       "      <th>3</th>\n",
       "      <td>1</td>\n",
       "      <td>550</td>\n",
       "      <td>1</td>\n",
       "      <td>0</td>\n",
       "      <td>0</td>\n",
       "      <td>78000</td>\n",
       "    </tr>\n",
       "    <tr>\n",
       "      <th>4</th>\n",
       "      <td>4</td>\n",
       "      <td>2000</td>\n",
       "      <td>0</td>\n",
       "      <td>0</td>\n",
       "      <td>1</td>\n",
       "      <td>150000</td>\n",
       "    </tr>\n",
       "  </tbody>\n",
       "</table>\n",
       "</div>"
      ],
      "text/plain": [
       "   Bedrooms  Sq. feet  Normaltown  Hipsterton  Skid Row  Sale Price\n",
       "0         3      2000           1           0         0      250000\n",
       "1         2       800           0           1         0      300000\n",
       "2         2       850           1           0         0      150000\n",
       "3         1       550           1           0         0       78000\n",
       "4         4      2000           0           0         1      150000"
      ]
     },
     "execution_count": 16,
     "metadata": {},
     "output_type": "execute_result"
    }
   ],
   "source": [
    "houses"
   ]
  },
  {
   "cell_type": "code",
   "execution_count": 17,
   "id": "2b924384",
   "metadata": {},
   "outputs": [
    {
     "data": {
      "text/html": [
       "<div>\n",
       "<style scoped>\n",
       "    .dataframe tbody tr th:only-of-type {\n",
       "        vertical-align: middle;\n",
       "    }\n",
       "\n",
       "    .dataframe tbody tr th {\n",
       "        vertical-align: top;\n",
       "    }\n",
       "\n",
       "    .dataframe thead th {\n",
       "        text-align: right;\n",
       "    }\n",
       "</style>\n",
       "<table border=\"1\" class=\"dataframe\">\n",
       "  <thead>\n",
       "    <tr style=\"text-align: right;\">\n",
       "      <th></th>\n",
       "      <th>Bedrooms</th>\n",
       "      <th>Sq. feet</th>\n",
       "      <th>Normaltown</th>\n",
       "      <th>Hipsterton</th>\n",
       "      <th>Skid Row</th>\n",
       "    </tr>\n",
       "  </thead>\n",
       "  <tbody>\n",
       "    <tr>\n",
       "      <th>0</th>\n",
       "      <td>3</td>\n",
       "      <td>2000</td>\n",
       "      <td>1</td>\n",
       "      <td>0</td>\n",
       "      <td>0</td>\n",
       "    </tr>\n",
       "    <tr>\n",
       "      <th>1</th>\n",
       "      <td>2</td>\n",
       "      <td>800</td>\n",
       "      <td>0</td>\n",
       "      <td>1</td>\n",
       "      <td>0</td>\n",
       "    </tr>\n",
       "    <tr>\n",
       "      <th>2</th>\n",
       "      <td>2</td>\n",
       "      <td>850</td>\n",
       "      <td>1</td>\n",
       "      <td>0</td>\n",
       "      <td>0</td>\n",
       "    </tr>\n",
       "    <tr>\n",
       "      <th>3</th>\n",
       "      <td>1</td>\n",
       "      <td>550</td>\n",
       "      <td>1</td>\n",
       "      <td>0</td>\n",
       "      <td>0</td>\n",
       "    </tr>\n",
       "    <tr>\n",
       "      <th>4</th>\n",
       "      <td>4</td>\n",
       "      <td>2000</td>\n",
       "      <td>0</td>\n",
       "      <td>0</td>\n",
       "      <td>1</td>\n",
       "    </tr>\n",
       "  </tbody>\n",
       "</table>\n",
       "</div>"
      ],
      "text/plain": [
       "   Bedrooms  Sq. feet  Normaltown  Hipsterton  Skid Row\n",
       "0         3      2000           1           0         0\n",
       "1         2       800           0           1         0\n",
       "2         2       850           1           0         0\n",
       "3         1       550           1           0         0\n",
       "4         4      2000           0           0         1"
      ]
     },
     "execution_count": 17,
     "metadata": {},
     "output_type": "execute_result"
    }
   ],
   "source": [
    "houses.iloc[:, :-1]"
   ]
  },
  {
   "cell_type": "code",
   "execution_count": 57,
   "id": "d1f638bf",
   "metadata": {},
   "outputs": [],
   "source": [
    "houses.insert(0, \"Termine Noto\", [1,1,1,1,1], True)"
   ]
  },
  {
   "cell_type": "code",
   "execution_count": 19,
   "id": "c72d7b1a",
   "metadata": {},
   "outputs": [
    {
     "data": {
      "text/html": [
       "<div>\n",
       "<style scoped>\n",
       "    .dataframe tbody tr th:only-of-type {\n",
       "        vertical-align: middle;\n",
       "    }\n",
       "\n",
       "    .dataframe tbody tr th {\n",
       "        vertical-align: top;\n",
       "    }\n",
       "\n",
       "    .dataframe thead th {\n",
       "        text-align: right;\n",
       "    }\n",
       "</style>\n",
       "<table border=\"1\" class=\"dataframe\">\n",
       "  <thead>\n",
       "    <tr style=\"text-align: right;\">\n",
       "      <th></th>\n",
       "      <th>Sale Price</th>\n",
       "    </tr>\n",
       "  </thead>\n",
       "  <tbody>\n",
       "    <tr>\n",
       "      <th>0</th>\n",
       "      <td>250000</td>\n",
       "    </tr>\n",
       "    <tr>\n",
       "      <th>1</th>\n",
       "      <td>300000</td>\n",
       "    </tr>\n",
       "    <tr>\n",
       "      <th>2</th>\n",
       "      <td>150000</td>\n",
       "    </tr>\n",
       "    <tr>\n",
       "      <th>3</th>\n",
       "      <td>78000</td>\n",
       "    </tr>\n",
       "    <tr>\n",
       "      <th>4</th>\n",
       "      <td>150000</td>\n",
       "    </tr>\n",
       "  </tbody>\n",
       "</table>\n",
       "</div>"
      ],
      "text/plain": [
       "   Sale Price\n",
       "0      250000\n",
       "1      300000\n",
       "2      150000\n",
       "3       78000\n",
       "4      150000"
      ]
     },
     "execution_count": 19,
     "metadata": {},
     "output_type": "execute_result"
    }
   ],
   "source": [
    "houses.iloc[:, -1:]\n"
   ]
  },
  {
   "cell_type": "code",
   "execution_count": 20,
   "id": "6f769623",
   "metadata": {},
   "outputs": [
    {
     "data": {
      "text/html": [
       "<div>\n",
       "<style scoped>\n",
       "    .dataframe tbody tr th:only-of-type {\n",
       "        vertical-align: middle;\n",
       "    }\n",
       "\n",
       "    .dataframe tbody tr th {\n",
       "        vertical-align: top;\n",
       "    }\n",
       "\n",
       "    .dataframe thead th {\n",
       "        text-align: right;\n",
       "    }\n",
       "</style>\n",
       "<table border=\"1\" class=\"dataframe\">\n",
       "  <thead>\n",
       "    <tr style=\"text-align: right;\">\n",
       "      <th></th>\n",
       "      <th>Termine Noto</th>\n",
       "      <th>Bedrooms</th>\n",
       "      <th>Sq. feet</th>\n",
       "      <th>Normaltown</th>\n",
       "      <th>Hipsterton</th>\n",
       "      <th>Skid Row</th>\n",
       "      <th>Sale Price</th>\n",
       "    </tr>\n",
       "  </thead>\n",
       "  <tbody>\n",
       "    <tr>\n",
       "      <th>0</th>\n",
       "      <td>1</td>\n",
       "      <td>3</td>\n",
       "      <td>2000</td>\n",
       "      <td>1</td>\n",
       "      <td>0</td>\n",
       "      <td>0</td>\n",
       "      <td>250000</td>\n",
       "    </tr>\n",
       "    <tr>\n",
       "      <th>1</th>\n",
       "      <td>1</td>\n",
       "      <td>2</td>\n",
       "      <td>800</td>\n",
       "      <td>0</td>\n",
       "      <td>1</td>\n",
       "      <td>0</td>\n",
       "      <td>300000</td>\n",
       "    </tr>\n",
       "    <tr>\n",
       "      <th>2</th>\n",
       "      <td>1</td>\n",
       "      <td>2</td>\n",
       "      <td>850</td>\n",
       "      <td>1</td>\n",
       "      <td>0</td>\n",
       "      <td>0</td>\n",
       "      <td>150000</td>\n",
       "    </tr>\n",
       "    <tr>\n",
       "      <th>3</th>\n",
       "      <td>1</td>\n",
       "      <td>1</td>\n",
       "      <td>550</td>\n",
       "      <td>1</td>\n",
       "      <td>0</td>\n",
       "      <td>0</td>\n",
       "      <td>78000</td>\n",
       "    </tr>\n",
       "    <tr>\n",
       "      <th>4</th>\n",
       "      <td>1</td>\n",
       "      <td>4</td>\n",
       "      <td>2000</td>\n",
       "      <td>0</td>\n",
       "      <td>0</td>\n",
       "      <td>1</td>\n",
       "      <td>150000</td>\n",
       "    </tr>\n",
       "  </tbody>\n",
       "</table>\n",
       "</div>"
      ],
      "text/plain": [
       "   Termine Noto  Bedrooms  Sq. feet  Normaltown  Hipsterton  Skid Row  \\\n",
       "0             1         3      2000           1           0         0   \n",
       "1             1         2       800           0           1         0   \n",
       "2             1         2       850           1           0         0   \n",
       "3             1         1       550           1           0         0   \n",
       "4             1         4      2000           0           0         1   \n",
       "\n",
       "   Sale Price  \n",
       "0      250000  \n",
       "1      300000  \n",
       "2      150000  \n",
       "3       78000  \n",
       "4      150000  "
      ]
     },
     "execution_count": 20,
     "metadata": {},
     "output_type": "execute_result"
    }
   ],
   "source": [
    "houses"
   ]
  },
  {
   "cell_type": "code",
   "execution_count": 21,
   "id": "4acb22e2",
   "metadata": {},
   "outputs": [
    {
     "data": {
      "text/plain": [
       "((5, 1), (6, 5))"
      ]
     },
     "execution_count": 21,
     "metadata": {},
     "output_type": "execute_result"
    }
   ],
   "source": [
    "houses.iloc[:, -1:].shape, houses.iloc[:, :-1].T.shape"
   ]
  },
  {
   "cell_type": "code",
   "execution_count": null,
   "id": "5569ebdf",
   "metadata": {},
   "outputs": [],
   "source": [
    "#costs = np.array([[250000], [300000], [150000], [78000], [150000]])\n",
    "costs = np.array([250000, 300000, 150000, 78000, 150000])\n",
    "houses = np.array([[1, 3, 2000, 1, 0, 0], [1, 2, 800, 0, 1, 0], [1, 2, 850, 1, 0, 0], [1, 1, 550, 1, 0, 0], [1, 4, 2000, 0, 0, 1]])\n",
    "\n",
    "#theta=gradient_descent_multivariable(0.00001, 100, houses.iloc[:, :-1], houses.iloc[:, -1:])\n",
    "\n",
    "theta=gradient_descent_multivariable(0.00001, 100, houses, costs)"
   ]
  },
  {
   "cell_type": "code",
   "execution_count": 54,
   "id": "4c3ea5e2",
   "metadata": {},
   "outputs": [
    {
     "data": {
      "text/plain": [
       "array([-3.11261283e+156, -8.96131108e+156, -4.85216026e+159,\n",
       "       -1.70691642e+156, -4.01627950e+155, -1.00406846e+156])"
      ]
     },
     "execution_count": 54,
     "metadata": {},
     "output_type": "execute_result"
    }
   ],
   "source": [
    "theta"
   ]
  },
  {
   "cell_type": "code",
   "execution_count": null,
   "id": "8a7ed519",
   "metadata": {},
   "outputs": [],
   "source": []
  }
 ],
 "metadata": {
  "kernelspec": {
   "display_name": "Python 3 (ipykernel)",
   "language": "python",
   "name": "python3"
  },
  "language_info": {
   "codemirror_mode": {
    "name": "ipython",
    "version": 3
   },
   "file_extension": ".py",
   "mimetype": "text/x-python",
   "name": "python",
   "nbconvert_exporter": "python",
   "pygments_lexer": "ipython3",
   "version": "3.10.9"
  }
 },
 "nbformat": 4,
 "nbformat_minor": 5
}
