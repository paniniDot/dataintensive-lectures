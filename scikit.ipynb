{
 "cells": [
  {
   "cell_type": "code",
   "execution_count": 39,
   "id": "d8e3a02a",
   "metadata": {},
   "outputs": [],
   "source": [
    "from sklearn.linear_model import LinearRegression\n",
    "import numpy as np\n",
    "import pandas as pd\n",
    "import matplotlib.pyplot as plt\n",
    "%matplotlib inline"
   ]
  },
  {
   "cell_type": "code",
   "execution_count": 4,
   "id": "d489e27b",
   "metadata": {},
   "outputs": [],
   "source": [
    "lrm = LinearRegression()"
   ]
  },
  {
   "cell_type": "code",
   "execution_count": 50,
   "id": "d8c0d845",
   "metadata": {},
   "outputs": [],
   "source": [
    "y = np.array([250000, 300000, 150000, 78000, 150000])\n",
    "X = np.array([[1, 3, 2000, 1, 0, 0], [1, 2, 800, 0, 1, 0], [1, 2, 850, 1, 0, 0], [1, 1, 550, 1, 0, 0], [1, 4, 2000, 0, 0, 1]])\n"
   ]
  },
  {
   "cell_type": "code",
   "execution_count": 9,
   "id": "f400ddd6",
   "metadata": {},
   "outputs": [
    {
     "data": {
      "text/plain": [
       "LinearRegression()"
      ]
     },
     "execution_count": 9,
     "metadata": {},
     "output_type": "execute_result"
    }
   ],
   "source": [
    "lrm.fit(X, y) #fit vuole come X una matrice, se abbiamo un array la otteniamo\n",
    "# a partire ad esempio da X[:, None]"
   ]
  },
  {
   "cell_type": "code",
   "execution_count": 20,
   "id": "771aecd2",
   "metadata": {},
   "outputs": [
    {
     "data": {
      "text/plain": [
       "array([[   1,    2, 3300,    0,    1,    0]])"
      ]
     },
     "execution_count": 20,
     "metadata": {},
     "output_type": "execute_result"
    }
   ],
   "source": [
    "X_new = np.array([1, 2, 3300, 0, 1, 0]).reshape(1, -1)\n",
    "X_new"
   ]
  },
  {
   "cell_type": "code",
   "execution_count": 21,
   "id": "695068a0",
   "metadata": {},
   "outputs": [
    {
     "data": {
      "text/plain": [
       "array([382352.94117655])"
      ]
     },
     "execution_count": 21,
     "metadata": {},
     "output_type": "execute_result"
    }
   ],
   "source": [
    "y_pred = lrm.predict(X_new)\n",
    "y_pred\n"
   ]
  },
  {
   "cell_type": "code",
   "execution_count": 35,
   "id": "76918fdb",
   "metadata": {},
   "outputs": [
    {
     "data": {
      "text/plain": [
       "(array([  1.,  12.,  23.,  34.,  45.,  56.,  67.,  78.,  89., 100.]),\n",
       " array([[  4.],\n",
       "        [ 37.],\n",
       "        [ 70.],\n",
       "        [103.],\n",
       "        [136.],\n",
       "        [169.],\n",
       "        [202.],\n",
       "        [235.],\n",
       "        [268.],\n",
       "        [301.]]))"
      ]
     },
     "execution_count": 35,
     "metadata": {},
     "output_type": "execute_result"
    }
   ],
   "source": [
    "X = np.linspace(1, 100, 10)\n",
    "y = (3 * X + 1).reshape(-1, 1)\n",
    "X, y"
   ]
  },
  {
   "cell_type": "code",
   "execution_count": 36,
   "id": "0d25634d",
   "metadata": {},
   "outputs": [
    {
     "data": {
      "text/plain": [
       "LinearRegression()"
      ]
     },
     "execution_count": 36,
     "metadata": {},
     "output_type": "execute_result"
    }
   ],
   "source": [
    "lrm.fit(X[:, None], y)"
   ]
  },
  {
   "cell_type": "code",
   "execution_count": 45,
   "id": "73c703a8",
   "metadata": {},
   "outputs": [],
   "source": [
    "X_new = np.array([200])\n",
    "y_pred = lrm.predict(X_new[:, None])"
   ]
  },
  {
   "cell_type": "code",
   "execution_count": 46,
   "id": "ed90df77",
   "metadata": {},
   "outputs": [
    {
     "data": {
      "text/plain": [
       "array([[601.]])"
      ]
     },
     "execution_count": 46,
     "metadata": {},
     "output_type": "execute_result"
    }
   ],
   "source": [
    "y_pred"
   ]
  },
  {
   "cell_type": "code",
   "execution_count": 47,
   "id": "c57b5d26",
   "metadata": {},
   "outputs": [
    {
     "data": {
      "text/plain": [
       "(array([[3.]]), array([1.]))"
      ]
     },
     "execution_count": 47,
     "metadata": {},
     "output_type": "execute_result"
    }
   ],
   "source": [
    "lrm.coef_, lrm.intercept_"
   ]
  },
  {
   "cell_type": "code",
   "execution_count": 48,
   "id": "babbf467",
   "metadata": {},
   "outputs": [
    {
     "data": {
      "text/plain": [
       "<matplotlib.collections.PathCollection at 0x147175af580>"
      ]
     },
     "execution_count": 48,
     "metadata": {},
     "output_type": "execute_result"
    },
    {
     "data": {
      "image/png": "[encoded data removed]",
      "text/plain": [
       "<Figure size 432x288 with 1 Axes>"
      ]
     },
     "metadata": {
      "needs_background": "light"
     },
     "output_type": "display_data"
    }
   ],
   "source": [
    "plt.scatter(X, y)"
   ]
  },
  {
   "cell_type": "markdown",
   "id": "ad00dcc1",
   "metadata": {},
   "source": [
    "#### Overfitting\n",
    "**overfitting** significa che il modello ha perso di generalità:\n",
    "risulta cioè troppo aderente ai dati di training e questo si ripercuote\n",
    "sul fatto che l'errore compiuto sui dati di training è notevolmente inferiore\n",
    "a quello compiuto sui dati di testing.\n",
    "Questo tipicamente accade perché, dal punto di vista matematico, i parametri\n",
    "ricalcano perfettamente la curva (se non lineare) che passa per i punti forniti\n",
    "in input in fase di training.\n",
    "\n",
    "Se volessimo verificare se c'è overfitting, potremmo ad esempio calcolare l'errore quadratico medio che c'è sulla predizione fatta sul dataset di training e su quello di validazione. Ad esempio cosi\n",
    "\n",
    "```python\n",
    "    lrm = LinearRegression()\n",
    "    lrm.fit(X_train, y_train)\n",
    "    np.mean((lrm.predict(X_train) - y_train)**2) \n",
    "    0.02291582249089107\n",
    "    np.mean((lrm.predict(X_val) - y_val)**2) \n",
    "    0.019989933582418993\n",
    "```\n",
    "Vediamo che rimaniamo sullo stesso ordine di grandezza e addirittura l'errore più grande è quello commesso sul set di training. Quindi non vi è overfitting.\n",
    "\n",
    "È anche possibile usare il **Mean Absolute Percentage Error** che non è altro che l'errore medio assoluto percentuale, che è molto più indicativo degli scarti quadratici medi.\n",
    "Si ottiene come\n",
    "\n",
    "$$\n",
    "\\text{MAPE} = \\frac{1}{m} \\sum_{i=1}^m | \\frac{\\tilde{y_i} - y_i}{y_i}|\n",
    "$$\n",
    "\n",
    "Banalmente potremo calcolarla come\n",
    "```python\n",
    "    np.mean(np.abs((lrm.predict(X_train) - y_train) / y_train))\n",
    "    0.05899891472169821\n",
    "    np.mean(np.abs((lrm.predict(X_val) - y_val) / y_val))\n",
    "    0.05170223216469662\n",
    "```\n",
    "\n",
    "Si può anche calcolare il cosiddetto **Coefficiente di determinazione $R^2$** che indica la proporzione fra variabilità dei dati e correttezza del modello.\n",
    "Si calcola come \n",
    "\n",
    "$$\n",
    "R^2 = \\frac{\\sum_{i=1}^m (\\tilde{y}_i - \\bar{y})^2}{\\sum_{i=1}^m (y_i - \\bar{y})^2}\n",
    "$$\n",
    "\n",
    "dove al numeratore si ha la sommatoria dei quadrati delle differenze di ogni $y_i$ predetta (per quello la tilde) e della $y$ media (con la barra), e al denominatore la sommatoria dei quadrati delle differenze fra la $y_i$ presa dai dati meno il valore medio della $y$\n",
    "\n",
    "Può variare nell'intervallo[0, 1], dove \n",
    "- 1 indica che il modello cattura perfettamente i dati\n",
    "- 0 non vi è alcuna relazione fra modello e dati\n",
    "\n",
    "Con **scikit-learn** si può calcolare con *lrm.score()* come segue\n",
    "\n",
    "```python \n",
    "    lrm.score(X_train, y_train)\n",
    "    0.768433269368844\n",
    "    lrm.score(X_val, y_val)\n",
    "    0.7508669565801295\n",
    "```\n",
    "\n",
    "#### Importanza dei dati\n",
    "I dati ovviamente servono per qualsiasi tipo di addestramento, tuttavia servono anche per la validazione del training. Cioè una parte dei dati in nostro possesso serviranno, una volta concluso il training, per verificare se è avvenuto correttamente. Come vengono suddivisi i dati in dati di training e di validation? Esistono diversi approcci.\n",
    "\n",
    "1. **Hold Out**. In altre parole si suddividono i dati in due insiemi (secondo una porzione definita come 70-30) in **training set** e **validation set**. Il primo servirà per il training, il secondo è usato dopo l'addestramento per controllare la *capacità di generalizzazione* del sistema, cioè capire se è in grado di predire una risposta su dati ignoti: se l'errore è simile a quello del training si assume che abbia generalizzato bene. Se invece è consistente significa che c'è *overfitting* o i dati di training raccolti non sono indicativi del dominio di appartenenza. Con scikit-learn possiamo suddividerli, ad esempio in 70-30, in automatico con il seguente codice \n",
    "\n",
    "```python \n",
    "from sklearn.model_selection import train_test_split\n",
    "X_train, X_val, y_train, y_val = train_test_split(X, y, train_size=0.7)\n",
    "```\n"
   ]
  },
  {
   "cell_type": "code",
   "execution_count": null,
   "id": "24c7917c",
   "metadata": {},
   "outputs": [],
   "source": []
  }
 ],
 "metadata": {
  "kernelspec": {
   "display_name": "Python 3 (ipykernel)",
   "language": "python",
   "name": "python3"
  },
  "language_info": {
   "codemirror_mode": {
    "name": "ipython",
    "version": 3
   },
   "file_extension": ".py",
   "mimetype": "text/x-python",
   "name": "python",
   "nbconvert_exporter": "python",
   "pygments_lexer": "ipython3",
   "version": "3.10.9"
  }
 },
 "nbformat": 4,
 "nbformat_minor": 5
}
