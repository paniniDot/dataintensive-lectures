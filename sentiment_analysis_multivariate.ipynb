{
 "cells": [
  {
   "cell_type": "code",
   "execution_count": 23,
   "id": "dd3d1fc1",
   "metadata": {},
   "outputs": [],
   "source": [
    "from sklearn.pipeline import Pipeline\n",
    "from sklearn.linear_model import LinearRegression\n",
    "from sklearn.preprocessing import PolynomialFeatures\n",
    "import numpy as np\n",
    "import pandas as pd\n",
    "import nltk\n",
    "from nltk.sentiment import SentimentIntensityAnalyzer"
   ]
  },
  {
   "cell_type": "code",
   "execution_count": 2,
   "id": "90636d26",
   "metadata": {},
   "outputs": [],
   "source": [
    "df = pd.read_csv('20191226-reviews.csv')"
   ]
  },
  {
   "cell_type": "code",
   "execution_count": 6,
   "id": "61f26069",
   "metadata": {},
   "outputs": [],
   "source": [
    "df['helpfulVotes'].fillna(0, inplace=True)\n",
    "df.dropna(subset=['body'], inplace=True)\n",
    "df['date']= pd.to_datetime(df['date'])\n",
    "df.drop('asin', axis=1, inplace=True)\n",
    "df.drop('name', axis=1, inplace=True)\n",
    "df.drop('verified', axis=1, inplace=True)\n",
    "df.drop('title', axis=1, inplace=True)\n"
   ]
  },
  {
   "cell_type": "code",
   "execution_count": 8,
   "id": "ea8c7c89",
   "metadata": {},
   "outputs": [
    {
     "data": {
      "text/plain": [
       "Timestamp('2003-11-24 00:00:00')"
      ]
     },
     "execution_count": 8,
     "metadata": {},
     "output_type": "execute_result"
    }
   ],
   "source": [
    "df['date'].min()"
   ]
  },
  {
   "cell_type": "code",
   "execution_count": 11,
   "id": "8597b8fd",
   "metadata": {},
   "outputs": [],
   "source": [
    "from datetime import datetime\n",
    "start_date = datetime(2003, 11, 24)\n",
    "df['days_since_start'] = (df['date'] - start_date).dt.days"
   ]
  },
  {
   "cell_type": "code",
   "execution_count": 13,
   "id": "e572b3ab",
   "metadata": {},
   "outputs": [],
   "source": [
    "df.drop('date', axis=1, inplace=True)"
   ]
  },
  {
   "cell_type": "code",
   "execution_count": 16,
   "id": "380de1ef",
   "metadata": {},
   "outputs": [],
   "source": [
    "sia = SentimentIntensityAnalyzer()\n",
    "df['pos_words'] = df.apply(lambda x: len([w for w in nltk.word_tokenize(x['body']) if sia.polarity_scores(w)['pos'] > 0]), axis=1)\n",
    "df['neg_words'] = df.apply(lambda x: len([w for w in nltk.word_tokenize(x['body']) if sia.polarity_scores(w)['neg'] > 0]), axis=1)"
   ]
  },
  {
   "cell_type": "code",
   "execution_count": 17,
   "id": "efe4f6f7",
   "metadata": {},
   "outputs": [
    {
     "data": {
      "text/html": [
       "<div>\n",
       "<style scoped>\n",
       "    .dataframe tbody tr th:only-of-type {\n",
       "        vertical-align: middle;\n",
       "    }\n",
       "\n",
       "    .dataframe tbody tr th {\n",
       "        vertical-align: top;\n",
       "    }\n",
       "\n",
       "    .dataframe thead th {\n",
       "        text-align: right;\n",
       "    }\n",
       "</style>\n",
       "<table border=\"1\" class=\"dataframe\">\n",
       "  <thead>\n",
       "    <tr style=\"text-align: right;\">\n",
       "      <th></th>\n",
       "      <th>rating</th>\n",
       "      <th>body</th>\n",
       "      <th>helpfulVotes</th>\n",
       "      <th>days_since_start</th>\n",
       "      <th>pos_words</th>\n",
       "      <th>neg_words</th>\n",
       "    </tr>\n",
       "  </thead>\n",
       "  <tbody>\n",
       "    <tr>\n",
       "      <th>0</th>\n",
       "      <td>3</td>\n",
       "      <td>I had the Samsung A600 for awhile which is abs...</td>\n",
       "      <td>1.0</td>\n",
       "      <td>687</td>\n",
       "      <td>17</td>\n",
       "      <td>13</td>\n",
       "    </tr>\n",
       "    <tr>\n",
       "      <th>1</th>\n",
       "      <td>1</td>\n",
       "      <td>Due to a software issue between Nokia and Spri...</td>\n",
       "      <td>17.0</td>\n",
       "      <td>44</td>\n",
       "      <td>5</td>\n",
       "      <td>2</td>\n",
       "    </tr>\n",
       "    <tr>\n",
       "      <th>2</th>\n",
       "      <td>5</td>\n",
       "      <td>This is a great, reliable phone. I also purcha...</td>\n",
       "      <td>5.0</td>\n",
       "      <td>36</td>\n",
       "      <td>6</td>\n",
       "      <td>3</td>\n",
       "    </tr>\n",
       "    <tr>\n",
       "      <th>3</th>\n",
       "      <td>3</td>\n",
       "      <td>I love the phone and all, because I really did...</td>\n",
       "      <td>1.0</td>\n",
       "      <td>115</td>\n",
       "      <td>3</td>\n",
       "      <td>0</td>\n",
       "    </tr>\n",
       "    <tr>\n",
       "      <th>4</th>\n",
       "      <td>4</td>\n",
       "      <td>The phone has been great for every purpose it ...</td>\n",
       "      <td>1.0</td>\n",
       "      <td>643</td>\n",
       "      <td>6</td>\n",
       "      <td>3</td>\n",
       "    </tr>\n",
       "    <tr>\n",
       "      <th>...</th>\n",
       "      <td>...</td>\n",
       "      <td>...</td>\n",
       "      <td>...</td>\n",
       "      <td>...</td>\n",
       "      <td>...</td>\n",
       "      <td>...</td>\n",
       "    </tr>\n",
       "    <tr>\n",
       "      <th>67981</th>\n",
       "      <td>5</td>\n",
       "      <td>I love the camera on this phone. The screen is...</td>\n",
       "      <td>1.0</td>\n",
       "      <td>5744</td>\n",
       "      <td>5</td>\n",
       "      <td>3</td>\n",
       "    </tr>\n",
       "    <tr>\n",
       "      <th>67982</th>\n",
       "      <td>5</td>\n",
       "      <td>I've been an Xperia user for several years and...</td>\n",
       "      <td>1.0</td>\n",
       "      <td>5773</td>\n",
       "      <td>4</td>\n",
       "      <td>5</td>\n",
       "    </tr>\n",
       "    <tr>\n",
       "      <th>67983</th>\n",
       "      <td>5</td>\n",
       "      <td>buy one more for my cousin</td>\n",
       "      <td>0.0</td>\n",
       "      <td>5711</td>\n",
       "      <td>0</td>\n",
       "      <td>0</td>\n",
       "    </tr>\n",
       "    <tr>\n",
       "      <th>67984</th>\n",
       "      <td>5</td>\n",
       "      <td>Product looks and works like new. Very much re...</td>\n",
       "      <td>0.0</td>\n",
       "      <td>5874</td>\n",
       "      <td>2</td>\n",
       "      <td>0</td>\n",
       "    </tr>\n",
       "    <tr>\n",
       "      <th>67985</th>\n",
       "      <td>5</td>\n",
       "      <td>I love the size and style of this phone. It is...</td>\n",
       "      <td>0.0</td>\n",
       "      <td>5861</td>\n",
       "      <td>4</td>\n",
       "      <td>0</td>\n",
       "    </tr>\n",
       "  </tbody>\n",
       "</table>\n",
       "<p>67965 rows × 6 columns</p>\n",
       "</div>"
      ],
      "text/plain": [
       "       rating                                               body  \\\n",
       "0           3  I had the Samsung A600 for awhile which is abs...   \n",
       "1           1  Due to a software issue between Nokia and Spri...   \n",
       "2           5  This is a great, reliable phone. I also purcha...   \n",
       "3           3  I love the phone and all, because I really did...   \n",
       "4           4  The phone has been great for every purpose it ...   \n",
       "...       ...                                                ...   \n",
       "67981       5  I love the camera on this phone. The screen is...   \n",
       "67982       5  I've been an Xperia user for several years and...   \n",
       "67983       5                         buy one more for my cousin   \n",
       "67984       5  Product looks and works like new. Very much re...   \n",
       "67985       5  I love the size and style of this phone. It is...   \n",
       "\n",
       "       helpfulVotes  days_since_start  pos_words  neg_words  \n",
       "0               1.0               687         17         13  \n",
       "1              17.0                44          5          2  \n",
       "2               5.0                36          6          3  \n",
       "3               1.0               115          3          0  \n",
       "4               1.0               643          6          3  \n",
       "...             ...               ...        ...        ...  \n",
       "67981           1.0              5744          5          3  \n",
       "67982           1.0              5773          4          5  \n",
       "67983           0.0              5711          0          0  \n",
       "67984           0.0              5874          2          0  \n",
       "67985           0.0              5861          4          0  \n",
       "\n",
       "[67965 rows x 6 columns]"
      ]
     },
     "execution_count": 17,
     "metadata": {},
     "output_type": "execute_result"
    }
   ],
   "source": [
    "df"
   ]
  },
  {
   "cell_type": "code",
   "execution_count": 19,
   "id": "a0640e27",
   "metadata": {},
   "outputs": [],
   "source": [
    "from sklearn.model_selection import train_test_split\n",
    "X_train, X_val, y_train, y_val = train_test_split(df.loc[:, ['helpfulVotes', 'days_since_start', 'pos_words', 'neg_words']], df.loc[:, 'rating'], train_size=0.7, random_state=42)"
   ]
  },
  {
   "cell_type": "code",
   "execution_count": 103,
   "id": "80942a9c",
   "metadata": {},
   "outputs": [],
   "source": [
    "prm = Pipeline([\n",
    "    (\"poly\", PolynomialFeatures(degree=4, include_bias=False)),\n",
    "    ('linreg', LinearRegression())\n",
    "])"
   ]
  },
  {
   "cell_type": "code",
   "execution_count": 104,
   "id": "9a2d29e9",
   "metadata": {},
   "outputs": [
    {
     "data": {
      "text/plain": [
       "Pipeline(steps=[('poly', PolynomialFeatures(degree=4, include_bias=False)),\n",
       "                ('linreg', LinearRegression())])"
      ]
     },
     "execution_count": 104,
     "metadata": {},
     "output_type": "execute_result"
    }
   ],
   "source": [
    "prm.fit(X_train, y_train)"
   ]
  },
  {
   "cell_type": "code",
   "execution_count": 105,
   "id": "68ab4b9c",
   "metadata": {},
   "outputs": [],
   "source": [
    "def predict_rating(body, date, helpfulVotes=0):\n",
    "    return np.array([helpfulVotes, \n",
    "                     (date - start_date).days, \n",
    "                     len([w for w in nltk.word_tokenize(body) if sia.polarity_scores(w)['pos'] > 0]),\n",
    "                     len([w for w in nltk.word_tokenize(body) if sia.polarity_scores(w)['neg'] > 0])\n",
    "                    ])"
   ]
  },
  {
   "cell_type": "code",
   "execution_count": 106,
   "id": "18229f6b",
   "metadata": {},
   "outputs": [
    {
     "data": {
      "text/plain": [
       "array([[   0, 4680,    2,    0]])"
      ]
     },
     "execution_count": 106,
     "metadata": {},
     "output_type": "execute_result"
    }
   ],
   "source": [
    "predict_rating(\"I love Gary Numan's older stuff and this is a great tune!!\", datetime(2016, 9, 16))[None, :]"
   ]
  },
  {
   "cell_type": "code",
   "execution_count": 107,
   "id": "b878a619",
   "metadata": {},
   "outputs": [
    {
     "data": {
      "text/plain": [
       "array([3.90040203])"
      ]
     },
     "execution_count": 107,
     "metadata": {},
     "output_type": "execute_result"
    }
   ],
   "source": [
    "prm.predict(predict_rating(\"Gary Numan's older stuff is ok!!\", datetime(2016, 9, 16), 3)[None, :])"
   ]
  },
  {
   "cell_type": "code",
   "execution_count": 108,
   "id": "38509c8a",
   "metadata": {},
   "outputs": [
    {
     "data": {
      "text/plain": [
       "(array([-7.83324476e-02, -3.47025921e-03, -3.16044586e-02, -1.91652236e-02,\n",
       "        -5.01278461e-04,  8.82466400e-05, -3.01562214e-03,  1.24280832e-03,\n",
       "         2.18885461e-06,  1.17068148e-04, -2.14281633e-04,  7.15668089e-04,\n",
       "        -1.60134399e-02,  3.64292665e-02, -8.17573218e-07,  3.64492570e-07,\n",
       "         1.21497989e-05, -5.80577761e-05, -3.31082268e-08,  9.40452479e-07,\n",
       "         3.25417473e-06,  7.47476802e-06, -2.89069749e-05, -1.62857187e-04,\n",
       "        -4.82045105e-10, -2.08049503e-09,  5.51662584e-09, -5.37912696e-06,\n",
       "         1.26150473e-05, -3.67411139e-06,  1.26884748e-04, -1.45496530e-04,\n",
       "         1.87483449e-04, -1.06825963e-03,  2.72084888e-10,  6.97710804e-11,\n",
       "         2.74009947e-09,  5.40353635e-10, -4.22806859e-11, -2.93819070e-09,\n",
       "         9.64892821e-09,  9.40881089e-09,  2.66921245e-07, -2.74126475e-07,\n",
       "         3.32958314e-12, -2.18507734e-11, -5.35813760e-10,  1.37233370e-09,\n",
       "        -2.86282973e-08,  4.25489559e-08, -1.62163088e-07, -5.24384631e-08,\n",
       "         2.54035146e-06, -1.25654256e-06,  3.53189700e-14, -1.38406561e-12,\n",
       "         1.87427938e-12,  4.53108197e-10, -1.21106406e-09,  6.97378269e-10,\n",
       "         1.32070107e-08,  8.81916317e-09, -8.90758746e-08,  1.82309085e-08,\n",
       "        -5.54348230e-07, -1.98352970e-06,  9.83048352e-06, -1.41278950e-05,\n",
       "         1.70959900e-05]),\n",
       " 4.496036569696285)"
      ]
     },
     "execution_count": 108,
     "metadata": {},
     "output_type": "execute_result"
    }
   ],
   "source": [
    "prm.named_steps['linreg'].coef_, prm.named_steps['linreg'].intercept_"
   ]
  },
  {
   "cell_type": "code",
   "execution_count": 109,
   "id": "5a5631eb",
   "metadata": {},
   "outputs": [
    {
     "data": {
      "text/plain": [
       "0.24805607931666762"
      ]
     },
     "execution_count": 109,
     "metadata": {},
     "output_type": "execute_result"
    }
   ],
   "source": [
    "prm.score(X_train, y_train)"
   ]
  },
  {
   "cell_type": "code",
   "execution_count": 110,
   "id": "16c452d3",
   "metadata": {},
   "outputs": [
    {
     "data": {
      "text/plain": [
       "0.16624319187340542"
      ]
     },
     "execution_count": 110,
     "metadata": {},
     "output_type": "execute_result"
    }
   ],
   "source": [
    "prm.score(X_val, y_val)"
   ]
  },
  {
   "cell_type": "code",
   "execution_count": 111,
   "id": "ee5338b5",
   "metadata": {},
   "outputs": [
    {
     "data": {
      "text/plain": [
       "0.7646873357856017"
      ]
     },
     "execution_count": 111,
     "metadata": {},
     "output_type": "execute_result"
    }
   ],
   "source": [
    "labels_train = np.where(y_train >= 3.5, \"pos\", \"neg\")\n",
    "labels_val = np.where(prm.predict(X_train) >= 3.5, \"pos\", \"neg\")\n",
    "(labels_train == labels_val).mean()"
   ]
  },
  {
   "cell_type": "code",
   "execution_count": null,
   "id": "5d33e62e",
   "metadata": {},
   "outputs": [],
   "source": []
  }
 ],
 "metadata": {
  "kernelspec": {
   "display_name": "Python 3 (ipykernel)",
   "language": "python",
   "name": "python3"
  },
  "language_info": {
   "codemirror_mode": {
    "name": "ipython",
    "version": 3
   },
   "file_extension": ".py",
   "mimetype": "text/x-python",
   "name": "python",
   "nbconvert_exporter": "python",
   "pygments_lexer": "ipython3",
   "version": "3.9.7"
  }
 },
 "nbformat": 4,
 "nbformat_minor": 5
}
